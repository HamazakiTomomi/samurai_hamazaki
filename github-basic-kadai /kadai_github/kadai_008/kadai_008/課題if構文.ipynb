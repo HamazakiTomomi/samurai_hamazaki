{
  "nbformat": 4,
  "nbformat_minor": 0,
  "metadata": {
    "colab": {
      "provenance": []
    },
    "kernelspec": {
      "name": "python3",
      "display_name": "Python 3"
    },
    "language_info": {
      "name": "python"
    }
  },
  "cells": [
    {
      "cell_type": "code",
      "execution_count": 63,
      "metadata": {
        "colab": {
          "base_uri": "https://localhost:8080/"
        },
        "id": "UTl9mc-qa3JS",
        "outputId": "ff032626-63e9-4e8a-c0f3-0f7a84b900ad"
      },
      "outputs": [
        {
          "output_type": "stream",
          "name": "stdout",
          "text": [
            "5\n",
            "Buzz\n"
          ]
        }
      ],
      "source": [
        "import random\n",
        "var = random.randint(0,100)\n",
        "print (var)\n",
        "if var % 15 == 0:\n",
        "  print (\"FizzBuzz\")\n",
        "elif var % 3 ==0:\n",
        "  print(\"Fizz\")\n",
        "elif var % 5 ==0:\n",
        "  print(\"Buzz\")\n",
        "else:\n",
        "  print(var)"
      ]
    },
    {
      "cell_type": "code",
      "source": [
        "for i in range (1,11):\n",
        "  print(i)"
      ],
      "metadata": {
        "colab": {
          "base_uri": "https://localhost:8080/"
        },
        "id": "iN4WAxwIf477",
        "outputId": "d62e8620-b28e-4961-c1a0-5f7dacc59791"
      },
      "execution_count": null,
      "outputs": [
        {
          "output_type": "stream",
          "name": "stdout",
          "text": [
            "1\n",
            "2\n",
            "3\n",
            "4\n",
            "5\n",
            "6\n",
            "7\n",
            "8\n",
            "9\n",
            "10\n"
          ]
        }
      ]
    },
    {
      "cell_type": "code",
      "source": [
        "import random\n",
        "for i in range(1,11):\n",
        "  num = random.randint(1,20)\n",
        "  print(f\"{i}回目の結果は{num}です\")\n",
        "  if num ==20:\n",
        "    print(\"20が出たので繰り返し処理を強制終了します\")\n",
        "    break"
      ],
      "metadata": {
        "colab": {
          "base_uri": "https://localhost:8080/"
        },
        "id": "Z2L6pTOagYbh",
        "outputId": "1f7256b0-9b83-42e1-dc6d-a130ab1749dd"
      },
      "execution_count": null,
      "outputs": [
        {
          "output_type": "stream",
          "name": "stdout",
          "text": [
            "1回目の結果は5です\n",
            "2回目の結果は15です\n",
            "3回目の結果は6です\n",
            "4回目の結果は7です\n",
            "5回目の結果は20です\n",
            "20が出たので繰り返し処理を強制終了します\n"
          ]
        }
      ]
    },
    {
      "cell_type": "code",
      "source": [
        "for i in range(1,11):\n",
        "  if i% 2 == 1:\n",
        "    continue\n",
        "  print(i)\n"
      ],
      "metadata": {
        "colab": {
          "base_uri": "https://localhost:8080/"
        },
        "id": "lL5YNzHuiTn7",
        "outputId": "f7ba9496-5f1b-4fae-a8f4-2b911fba39b6"
      },
      "execution_count": null,
      "outputs": [
        {
          "output_type": "stream",
          "name": "stdout",
          "text": [
            "2\n",
            "4\n",
            "6\n",
            "8\n",
            "10\n"
          ]
        }
      ]
    },
    {
      "cell_type": "code",
      "source": [
        "import random\n",
        "num = random.randint(0,4)\n",
        "print(f\"最初の値は{num}です。\")\n",
        "\n",
        "while num !=0:\n",
        "  num = random.randint(0,4)\n",
        "  print(f\"現在の値は{num}\")"
      ],
      "metadata": {
        "colab": {
          "base_uri": "https://localhost:8080/"
        },
        "id": "28vT-yf-yKbS",
        "outputId": "f6aa0a68-57e9-4a4d-fd42-1171b6ad5fa0"
      },
      "execution_count": null,
      "outputs": [
        {
          "output_type": "stream",
          "name": "stdout",
          "text": [
            "最初の値は1です。\n",
            "現在の値は2\n",
            "現在の値は2\n",
            "現在の値は2\n",
            "現在の値は2\n",
            "現在の値は1\n",
            "現在の値は4\n",
            "現在の値は0\n"
          ]
        }
      ]
    },
    {
      "cell_type": "code",
      "source": [
        "import random\n",
        "num = random.randint(0,4)\n",
        "i=1\n",
        "print(f\"最初の値は{num}です。\")\n",
        "while num !=0:\n",
        "  num = random.randint(0,4)\n",
        "  if i==5:\n",
        "    print(\"5回目なので繰り返し処理を強制終了します。\")\n",
        "    break\n",
        "  print(f\"現在の値は{num}です。\")\n",
        "  i = i + 1"
      ],
      "metadata": {
        "colab": {
          "base_uri": "https://localhost:8080/"
        },
        "id": "sZoam_0bzDK3",
        "outputId": "2474d3b0-cd72-4553-9f36-c820a6f80f7f"
      },
      "execution_count": null,
      "outputs": [
        {
          "output_type": "stream",
          "name": "stdout",
          "text": [
            "最初の値は1です。\n",
            "現在の値は2です。\n",
            "現在の値は0です。\n"
          ]
        }
      ]
    },
    {
      "cell_type": "code",
      "source": [
        "import random\n",
        "sum = 0\n",
        "while sum <20:\n",
        "  num = random.randint(1,10)\n",
        "  print(f\"{num}が出ました\")\n",
        "  if"
      ],
      "metadata": {
        "id": "rfzK3swx0xcF"
      },
      "execution_count": null,
      "outputs": []
    }
  ]
}