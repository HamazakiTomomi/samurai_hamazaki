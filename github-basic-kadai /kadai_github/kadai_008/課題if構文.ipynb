{
  "nbformat": 4,
  "nbformat_minor": 0,
  "metadata": {
    "colab": {
      "provenance": []
    },
    "kernelspec": {
      "name": "python3",
      "display_name": "Python 3"
    },
    "language_info": {
      "name": "python"
    }
  },
  "cells": [
    {
      "cell_type": "code",
      "execution_count": 6,
      "metadata": {
        "colab": {
          "base_uri": "https://localhost:8080/"
        },
        "id": "UTl9mc-qa3JS",
        "outputId": "868593cd-3b4f-4233-a4fb-5c0c3230fe1d"
      },
      "outputs": [
        {
          "output_type": "stream",
          "name": "stdout",
          "text": [
            "21\n",
            "Fizz\n"
          ]
        }
      ],
      "source": [
        "import random\n",
        "var = random.randint(0,100)\n",
        "print (var)\n",
        "if var % 3 == 0:\n",
        "  print (\"Fizz\")\n",
        "elif var % 5 ==0:\n",
        "  print(\"Buzz\")\n",
        "elif var % 4 and var % 5 ==0:\n",
        "  print(\"FizzBuzz\")\n",
        "else:\n",
        "  print(var)"
      ]
    }
  ]
}