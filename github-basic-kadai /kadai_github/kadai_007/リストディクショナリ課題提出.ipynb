{
  "nbformat": 4,
  "nbformat_minor": 0,
  "metadata": {
    "colab": {
      "provenance": []
    },
    "kernelspec": {
      "name": "python3",
      "display_name": "Python 3"
    },
    "language_info": {
      "name": "python"
    }
  },
  "cells": [
    {
      "cell_type": "code",
      "execution_count": 35,
      "metadata": {
        "colab": {
          "base_uri": "https://localhost:8080/"
        },
        "id": "XKcgH3aHFP-r",
        "outputId": "e6bfc987-ead9-4879-b205-a59577d71b1b"
      },
      "outputs": [
        {
          "output_type": "stream",
          "name": "stdout",
          "text": [
            "水曜日は晴れです\n"
          ]
        }
      ],
      "source": [
        "Array = [\"月曜日は晴れです\",\"火曜日は雨です\", \"水曜日は晴れです\", \"木曜日は晴れです\", \"金曜日は曇りです\", \"土曜日は曇りのち雨です\", \"日曜日は雷雨です\"]\n",
        "print(Array[2])\n"
      ]
    },
    {
      "cell_type": "code",
      "source": [
        "dictionary = {\"mon\":\"晴れ\",\"tue\":\"雨\",\"wed\":\"晴れ\",\"thu\":\"晴れ\", \"fri\":\"曇り\",\"sat\":\"曇りのち雨\",\"sun\":\"雷雨\"}\n",
        "print(dictionary[\"wed\"])"
      ],
      "metadata": {
        "colab": {
          "base_uri": "https://localhost:8080/"
        },
        "id": "yl-BXGrUGi80",
        "outputId": "607dfee4-c7a8-483b-f210-eebba4d29543"
      },
      "execution_count": 36,
      "outputs": [
        {
          "output_type": "stream",
          "name": "stdout",
          "text": [
            "晴れ\n"
          ]
        }
      ]
    },
    {
      "cell_type": "markdown",
      "source": [],
      "metadata": {
        "id": "Vd360vVkXrXc"
      }
    },
    {
      "cell_type": "code",
      "source": [
        "print(45 + 18)\n",
        "print (45 > 18)"
      ],
      "metadata": {
        "colab": {
          "base_uri": "https://localhost:8080/"
        },
        "id": "s1cMwTk_KRJa",
        "outputId": "ff684604-5314-45a8-9fd3-fb7e7977ae10"
      },
      "execution_count": 10,
      "outputs": [
        {
          "output_type": "stream",
          "name": "stdout",
          "text": [
            "63\n",
            "True\n"
          ]
        }
      ]
    },
    {
      "cell_type": "code",
      "source": [
        "print (\"5\"==5)"
      ],
      "metadata": {
        "colab": {
          "base_uri": "https://localhost:8080/"
        },
        "id": "9ozLODP0LB0M",
        "outputId": "773597ce-f151-475f-90f7-8fcb70d8fa66"
      },
      "execution_count": 11,
      "outputs": [
        {
          "output_type": "stream",
          "name": "stdout",
          "text": [
            "False\n"
          ]
        }
      ]
    },
    {
      "cell_type": "code",
      "source": [
        "import random\n",
        "num = random.randint(0, 4)\n",
        "print(num)\n",
        "if num == 4:\n",
        "  print(\"大当たりです\")\n",
        "elif num==3:\n",
        " print(\"あたりです\")\n",
        "else:\n",
        "    print(\"はずれです\")"
      ],
      "metadata": {
        "colab": {
          "base_uri": "https://localhost:8080/"
        },
        "id": "Ot4lM12wLWdI",
        "outputId": "d47fdeab-f5c3-4cb2-a585-4586011b9e82"
      },
      "execution_count": 22,
      "outputs": [
        {
          "output_type": "stream",
          "name": "stdout",
          "text": [
            "1\n",
            "はずれです\n"
          ]
        }
      ]
    },
    {
      "cell_type": "code",
      "source": [
        "import random\n",
        "num = random.randint(0,4)\n",
        "print(num)\n",
        "if 1<num and num<3:\n",
        "  print(\"整数numは1より大きく3より小さいです\")\n",
        "else:\n",
        "    print(\"or条件が成り立ちませんでした\")\n",
        "\n",
        "if num == 1 or num == 3:\n",
        "  print(\"変数numは１または３です\")\n",
        "else:\n",
        "  print(\"or条件が成り立ちませんでした\")"
      ],
      "metadata": {
        "colab": {
          "base_uri": "https://localhost:8080/"
        },
        "id": "jJDSpMdnNMs3",
        "outputId": "6c5753fe-8eb2-4ba6-8818-d90b1a8e1e8c"
      },
      "execution_count": 34,
      "outputs": [
        {
          "output_type": "stream",
          "name": "stdout",
          "text": [
            "2\n",
            "整数numは1より大きく3より小さいです\n",
            "or条件が成り立ちませんでした\n"
          ]
        }
      ]
    }
  ]
}