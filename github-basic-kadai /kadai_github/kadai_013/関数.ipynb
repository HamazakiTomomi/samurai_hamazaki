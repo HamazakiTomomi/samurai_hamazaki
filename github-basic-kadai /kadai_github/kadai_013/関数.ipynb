{
  "nbformat": 4,
  "nbformat_minor": 0,
  "metadata": {
    "colab": {
      "provenance": []
    },
    "kernelspec": {
      "name": "python3",
      "display_name": "Python 3"
    },
    "language_info": {
      "name": "python"
    }
  },
  "cells": [
    {
      "cell_type": "code",
      "execution_count": 4,
      "metadata": {
        "colab": {
          "base_uri": "https://localhost:8080/"
        },
        "id": "Sz0KC2-zhi_Z",
        "outputId": "2e3777ed-f32d-416e-8bbf-1a2c4eb668de"
      },
      "outputs": [
        {
          "output_type": "stream",
          "name": "stdout",
          "text": [
            "1320.0円\n"
          ]
        },
        {
          "output_type": "execute_result",
          "data": {
            "text/plain": [
              "1320.0"
            ]
          },
          "metadata": {},
          "execution_count": 4
        }
      ],
      "source": [
        "def add_tax(price,tax):\n",
        "  total = price + (price*tax/100)\n",
        "  print(f\"{total}円\")\n",
        "  return total\n",
        "\n",
        "add_tax(1200,10)"
      ]
    }
  ]
}