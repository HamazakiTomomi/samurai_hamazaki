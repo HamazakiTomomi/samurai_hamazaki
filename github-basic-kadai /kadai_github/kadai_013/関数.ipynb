{
  "nbformat": 4,
  "nbformat_minor": 0,
  "metadata": {
    "colab": {
      "provenance": []
    },
    "kernelspec": {
      "name": "python3",
      "display_name": "Python 3"
    },
    "language_info": {
      "name": "python"
    }
  },
  "cells": [
    {
      "cell_type": "code",
      "execution_count": 9,
      "metadata": {
        "colab": {
          "base_uri": "https://localhost:8080/"
        },
        "id": "Sz0KC2-zhi_Z",
        "outputId": "daf345f8-d6e7-4d36-cf30-582119352039"
      },
      "outputs": [
        {
          "output_type": "stream",
          "name": "stdout",
          "text": [
            "税入り価格は1320.0です\n"
          ]
        }
      ],
      "source": [
        "def add_tax(price,tax):\n",
        "  total = price + (price*tax/100)\n",
        "  return total\n",
        "\n",
        "result = add_tax(1200,10)\n",
        "print(f\"税入り価格は{result}です\")"
      ]
    }
  ]
}