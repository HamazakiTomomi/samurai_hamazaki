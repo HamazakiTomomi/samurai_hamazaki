{
  "nbformat": 4,
  "nbformat_minor": 0,
  "metadata": {
    "colab": {
      "provenance": []
    },
    "kernelspec": {
      "name": "python3",
      "display_name": "Python 3"
    },
    "language_info": {
      "name": "python"
    }
  },
  "cells": [
    {
      "cell_type": "code",
      "execution_count": 1,
      "metadata": {
        "colab": {
          "base_uri": "https://localhost:8080/"
        },
        "id": "Sz0KC2-zhi_Z",
        "outputId": "49766186-00d7-4b8e-e3f1-a59423a81a69"
      },
      "outputs": [
        {
          "output_type": "stream",
          "name": "stdout",
          "text": [
            "2640.0円\n"
          ]
        }
      ],
      "source": [
        "def add_tax(price,tax):\n",
        "  total = price + tax\n",
        "  print(f\"{total}円\")\n",
        "\n",
        "add_tax(1200,1200*1.2)"
      ]
    }
  ]
}