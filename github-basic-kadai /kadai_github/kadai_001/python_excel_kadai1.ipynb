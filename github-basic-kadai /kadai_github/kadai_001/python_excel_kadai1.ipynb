{
  "nbformat": 4,
  "nbformat_minor": 0,
  "metadata": {
    "colab": {
      "provenance": []
    },
    "kernelspec": {
      "name": "python3",
      "display_name": "Python 3"
    },
    "language_info": {
      "name": "python"
    }
  },
  "cells": [
    {
      "cell_type": "code",
      "execution_count": 32,
      "metadata": {
        "id": "-fwTTpBJ7tKB"
      },
      "outputs": [],
      "source": [
        "import openpyxl\n",
        "import datetime\n",
        "now = datetime.datetime.now()\n",
        "date = datetime.datetime.strptime(\"2024/07/21\", \"%Y/%m/%d\")\n",
        "\n",
        "workbook = openpyxl.Workbook()\n",
        "ws = workbook.active\n",
        "ws['B2'] = '請求書'\n",
        "ws['B4'] = '株式会社ABC'\n",
        "ws['B5'] = '〒101-0022 東京都千代田区神田練塀町300'\n",
        "ws['B6'] = 'TEL:03-1234-5678 FAX:03-1234-5678'\n",
        "ws['B7'] = '担当者名:鈴木一郎 様'\n",
        "ws['F4'] = 'No.'\n",
        "ws['F5'] = '日付'\n",
        "ws['G4'] = '0001'\n",
        "ws['G5'] = now.strftime('%Y/%m/%d')\n",
        "\n",
        "ws['B8'] = ' '\n",
        "ws['B9'] = ' '\n",
        "\n",
        "\n",
        "header = ['商品名', '数量', '単価', '金額']\n",
        "ws.append(header)\n",
        "\n",
        "data = [\n",
        "    ['商品A', 2, 10000, 20000],\n",
        "    ['商品B', 1, 15000, 15000]\n",
        "]\n",
        "\n",
        "for row in data:\n",
        "  ws.append(row)\n",
        "\n",
        "ws['D13'] = '=SUM(D11:D12)'\n",
        "ws['B15'] = '小計'\n",
        "ws['B16'] = '消費税'\n",
        "ws['B17'] = '合計'\n",
        "\n",
        "ws['D15'] = '=D13'\n",
        "ws['D16'] = '=D15*0.1'\n",
        "ws['D17'] = '=D15+D16'\n",
        "\n",
        "workbook.save('売上表.xlsx')\n"
      ]
    }
  ]
}