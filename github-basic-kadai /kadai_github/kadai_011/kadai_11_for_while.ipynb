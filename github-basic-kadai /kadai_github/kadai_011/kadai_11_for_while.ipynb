{
  "nbformat": 4,
  "nbformat_minor": 0,
  "metadata": {
    "colab": {
      "provenance": []
    },
    "kernelspec": {
      "name": "python3",
      "display_name": "Python 3"
    },
    "language_info": {
      "name": "python"
    }
  },
  "cells": [
    {
      "cell_type": "code",
      "execution_count": null,
      "metadata": {
        "colab": {
          "base_uri": "https://localhost:8080/"
        },
        "id": "y7bvyvGEcj3R",
        "outputId": "e4030a08-bbb7-46ec-af5c-e74f41753f6f"
      },
      "outputs": [
        {
          "output_type": "stream",
          "name": "stdout",
          "text": [
            "水\n",
            "金\n",
            "地\n",
            "火\n",
            "木\n",
            "土\n",
            "天\n",
            "海\n",
            "冥\n"
          ]
        }
      ],
      "source": [
        "arrays = [\"水\",\"金\",\"地\",\"火\",\"木\",\"土\",\"天\",\"海\",\"冥\"]\n",
        "\n",
        "for array in arrays:\n",
        "  print(array)\n"
      ]
    },
    {
      "cell_type": "code",
      "source": [
        "arrays = [\"水\",\"金\",\"地\",\"火\",\"木\",\"土\",\"天\",\"海\",\"冥\"]\n",
        "\n",
        "index = 0\n",
        "\n",
        "while index <= 9:\n",
        "  [print(i)for i in arrays]\n",
        "  break"
      ],
      "metadata": {
        "colab": {
          "base_uri": "https://localhost:8080/"
        },
        "id": "2unWT3M8e0ix",
        "outputId": "ce5e7f59-b9ef-4e75-df88-f6d2afbbf44a"
      },
      "execution_count": 3,
      "outputs": [
        {
          "output_type": "stream",
          "name": "stdout",
          "text": [
            "水\n",
            "金\n",
            "地\n",
            "火\n",
            "木\n",
            "土\n",
            "天\n",
            "海\n",
            "冥\n"
          ]
        }
      ]
    },
    {
      "cell_type": "code",
      "source": [
        "def say_good_morning():\n",
        "  print(\"おはようございます\")\n",
        "  print(\"昨日はよく眠れましたか？\")\n",
        "  print(\"今日も一日頑張りましょう\")\n",
        "\n",
        "def say_good_evening():\n",
        "  print(\"こんばんは！\")\n",
        "  print(\"今日も一日お疲れ様でした。\")\n",
        "\n",
        "say_good_morning()\n",
        "\n",
        "say_good_evening()"
      ],
      "metadata": {
        "colab": {
          "base_uri": "https://localhost:8080/"
        },
        "id": "ZQQIrCOpjYWq",
        "outputId": "f59f4c81-b23b-4005-825d-cd58f679cee3"
      },
      "execution_count": null,
      "outputs": [
        {
          "output_type": "stream",
          "name": "stdout",
          "text": [
            "おはようございます\n",
            "昨日はよく眠れましたか？\n",
            "今日も一日頑張りましょう\n",
            "こんばんは！\n",
            "今日も一日お疲れ様でした。\n"
          ]
        }
      ]
    },
    {
      "cell_type": "code",
      "source": [
        "def calculate_total(price):\n",
        "  total = price + 500\n",
        "  print(f\"{total}円\")\n",
        "\n",
        "calculate_total(1200)"
      ],
      "metadata": {
        "colab": {
          "base_uri": "https://localhost:8080/"
        },
        "id": "Dn2CzUQX9OS6",
        "outputId": "61a2a67c-ec94-40ee-f28f-0064db0e4b87"
      },
      "execution_count": null,
      "outputs": [
        {
          "output_type": "stream",
          "name": "stdout",
          "text": [
            "1700円\n"
          ]
        }
      ]
    },
    {
      "cell_type": "code",
      "source": [
        "def add_two_arguments(price, shipping_fee):\n",
        "  total=price + shipping_fee\n",
        "  print(f\"{total}円\")\n",
        "  print(f\"送料は{shipping_fee}です\")\n",
        "\n",
        "add_two_arguments(1200,500)\n",
        "add_two_arguments(1400,500)"
      ],
      "metadata": {
        "colab": {
          "base_uri": "https://localhost:8080/"
        },
        "id": "Sor4uyDZ961y",
        "outputId": "ca710d98-e9e4-494d-8f92-85ba04f7bbcb"
      },
      "execution_count": null,
      "outputs": [
        {
          "output_type": "stream",
          "name": "stdout",
          "text": [
            "1700円\n",
            "送料は500です\n",
            "1900円\n",
            "送料は500です\n"
          ]
        }
      ]
    },
    {
      "cell_type": "code",
      "source": [
        "purchased = True\n",
        "def is_purchased():\n",
        "  if (purchased):\n",
        "    return True\n",
        "  else:\n",
        "      return False\n",
        "\n",
        "if (is_purchased()):\n",
        "  print(\"商品は購入済みです。\")"
      ],
      "metadata": {
        "colab": {
          "base_uri": "https://localhost:8080/"
        },
        "id": "lfxMS-6-GllY",
        "outputId": "559150ab-df0a-4f53-f026-acf7e112f16d"
      },
      "execution_count": null,
      "outputs": [
        {
          "output_type": "stream",
          "name": "stdout",
          "text": [
            "商品は購入済みです。\n"
          ]
        }
      ]
    }
  ]
}