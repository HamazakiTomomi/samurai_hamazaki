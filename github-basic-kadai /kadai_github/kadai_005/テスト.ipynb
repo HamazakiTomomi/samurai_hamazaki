{
  "nbformat": 4,
  "nbformat_minor": 0,
  "metadata": {
    "colab": {
      "provenance": []
    },
    "kernelspec": {
      "name": "python3",
      "display_name": "Python 3"
    },
    "language_info": {
      "name": "python"
    }
  },
  "cells": [
    {
      "cell_type": "code",
      "source": [
        "jouhen = 10\n",
        "kahen = 20\n",
        "hight = 5\n",
        "print(f\"台形の面積は{(jouhen + kahen)*hight/2}cm2です\")"
      ],
      "metadata": {
        "colab": {
          "base_uri": "https://localhost:8080/"
        },
        "id": "jeZ8OUUnlIvV",
        "outputId": "c8d36af5-45dd-4c8d-e216-00d69d4f69cd"
      },
      "execution_count": null,
      "outputs": [
        {
          "output_type": "stream",
          "name": "stdout",
          "text": [
            "台形の面積は75.0cm2です\n"
          ]
        }
      ]
    },
    {
      "cell_type": "code",
      "source": [
        "user_names = [\"侍太郎\", \"侍一郎\", \"侍二郎\", \"侍三郎\", \"侍四郎\"]\n",
        "\n",
        "# 2番目の要素である「侍一郎」という文字列だけを取り出して表示する\n",
        "print(user_names[0])"
      ],
      "metadata": {
        "colab": {
          "base_uri": "https://localhost:8080/"
        },
        "id": "Lkx3rOZqH3TR",
        "outputId": "b47d264c-2997-477b-a8b2-53a58ab0da98"
      },
      "execution_count": null,
      "outputs": [
        {
          "output_type": "stream",
          "name": "stdout",
          "text": [
            "侍太郎\n"
          ]
        }
      ]
    },
    {
      "cell_type": "code",
      "source": [
        "user_names = [\"侍太郎\", \"侍一郎\", \"侍二郎\", \"侍三郎\", \"侍四郎\"]\n",
        "print(user_names)"
      ],
      "metadata": {
        "colab": {
          "base_uri": "https://localhost:8080/"
        },
        "id": "8PHCPKkvIGyh",
        "outputId": "0b76b267-45c7-4f4c-a1f0-9bc07b3ff709"
      },
      "execution_count": null,
      "outputs": [
        {
          "output_type": "stream",
          "name": "stdout",
          "text": [
            "['侍太郎', '侍一郎', '侍二郎', '侍三郎', '侍四郎']\n"
          ]
        }
      ]
    },
    {
      "cell_type": "code",
      "source": [
        "user_names = [\"侍太郎\", \"侍一郎\", \"侍二郎\", \"侍三郎\", \"侍四郎\"]\n",
        "user_names[0]=\"suga\"\n",
        "print(user_names[0])"
      ],
      "metadata": {
        "colab": {
          "base_uri": "https://localhost:8080/"
        },
        "id": "BJlYNixAIa4k",
        "outputId": "233de03c-a926-49d1-fa64-d01b89f0b678"
      },
      "execution_count": null,
      "outputs": [
        {
          "output_type": "stream",
          "name": "stdout",
          "text": [
            "suga\n"
          ]
        }
      ]
    },
    {
      "cell_type": "code",
      "source": [
        "user_names = [\"侍太郎\", \"侍一郎\", \"侍二郎\", \"侍三郎\", \"侍四郎\"]\n",
        "\n",
        "# 6番目の要素を追加する\n",
        "user_names.pop(2)\n",
        "print(user_names)"
      ],
      "metadata": {
        "colab": {
          "base_uri": "https://localhost:8080/"
        },
        "id": "AJ4CSHEaJZJM",
        "outputId": "13f6c03b-16dd-4d9e-82fa-8f263596839a"
      },
      "execution_count": null,
      "outputs": [
        {
          "output_type": "stream",
          "name": "stdout",
          "text": [
            "['侍太郎', '侍一郎', '侍三郎', '侍四郎']\n"
          ]
        }
      ]
    },
    {
      "cell_type": "code",
      "source": [
        "company_names = \"loreal\", \"shisheido\", \"kao\", \"kanebo\"\n",
        "print(company_names)\n",
        "print(company_names[2])\n",
        "company_names ={\"loreal\", \"loreal\", \"kao\",\"kao\"}\n",
        "print(company_names)"
      ],
      "metadata": {
        "colab": {
          "base_uri": "https://localhost:8080/"
        },
        "id": "ZqHjdJmPJxug",
        "outputId": "6dda21f7-f185-4a80-fe5a-6f9a850ff22c"
      },
      "execution_count": null,
      "outputs": [
        {
          "output_type": "stream",
          "name": "stdout",
          "text": [
            "('loreal', 'shisheido', 'kao', 'kanebo')\n",
            "kao\n",
            "{'loreal', 'kao'}\n"
          ]
        }
      ]
    }
  ]
}