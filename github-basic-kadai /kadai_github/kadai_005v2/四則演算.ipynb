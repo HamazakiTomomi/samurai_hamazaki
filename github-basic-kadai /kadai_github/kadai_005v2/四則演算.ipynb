{
  "nbformat": 4,
  "nbformat_minor": 0,
  "metadata": {
    "colab": {
      "provenance": []
    },
    "kernelspec": {
      "name": "python3",
      "display_name": "Python 3"
    },
    "language_info": {
      "name": "python"
    }
  },
  "cells": [
    {
      "cell_type": "code",
      "execution_count": 4,
      "metadata": {
        "colab": {
          "base_uri": "https://localhost:8080/"
        },
        "id": "K6e8OjXffnlu",
        "outputId": "8b09fb9d-48c1-4a6f-c09e-c79e3766f122"
      },
      "outputs": [
        {
          "output_type": "stream",
          "name": "stdout",
          "text": [
            "台形の面積は75.0cm²です\n"
          ]
        }
      ],
      "source": [
        "jouhen = 10\n",
        "kahen = 20\n",
        "hight = 5\n",
        "\n",
        "area = (jouhen + kahen)*hight/2\n",
        "\n",
        "print(f\"台形の面積は{area}cm²です\")"
      ]
    }
  ]
}