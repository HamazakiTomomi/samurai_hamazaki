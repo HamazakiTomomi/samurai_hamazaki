{
  "nbformat": 4,
  "nbformat_minor": 0,
  "metadata": {
    "colab": {
      "provenance": []
    },
    "kernelspec": {
      "name": "python3",
      "display_name": "Python 3"
    },
    "language_info": {
      "name": "python"
    }
  },
  "cells": [
    {
      "cell_type": "code",
      "execution_count": 3,
      "metadata": {
        "colab": {
          "base_uri": "https://localhost:8080/"
        },
        "id": "K6e8OjXffnlu",
        "outputId": "afd40a8f-976e-4f14-e48c-7f43e2026007"
      },
      "outputs": [
        {
          "output_type": "stream",
          "name": "stdout",
          "text": [
            "台形の面積は75.0cm²です\n"
          ]
        }
      ],
      "source": [
        "jouhen = 10\n",
        "kahen = 20\n",
        "hight = 5\n",
        "print(f\"台形の面積は{(jouhen + kahen)*hight/2}cm²です\")"
      ]
    }
  ]
}