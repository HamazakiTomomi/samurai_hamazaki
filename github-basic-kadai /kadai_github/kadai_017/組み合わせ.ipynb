{
  "nbformat": 4,
  "nbformat_minor": 0,
  "metadata": {
    "colab": {
      "provenance": []
    },
    "kernelspec": {
      "name": "python3",
      "display_name": "Python 3"
    },
    "language_info": {
      "name": "python"
    }
  },
  "cells": [
    {
      "cell_type": "code",
      "execution_count": 6,
      "metadata": {
        "colab": {
          "base_uri": "https://localhost:8080/"
        },
        "id": "ysmbELYJtl7G",
        "outputId": "d5003ed4-464a-4e73-848f-33d359cdf275"
      },
      "outputs": [
        {
          "output_type": "stream",
          "name": "stdout",
          "text": [
            "Adult\n",
            "Child\n",
            "Adult\n",
            "Child\n",
            "Adult\n"
          ]
        }
      ],
      "source": [
        "class Human:\n",
        "  def __init__(self, name, age):\n",
        "    self.name = name\n",
        "    self.age = age\n",
        "\n",
        "    check_adult = True if age >= 20 else False\n",
        "\n",
        "    if check_adult:\n",
        "      print(\"Adult\")\n",
        "    else:\n",
        "      print(\"Child\")\n",
        "\n",
        "human = Human(\"Tom\",20)\n",
        "human = Human(\"Jon\",18)\n",
        "human = Human(\"Bob\",35)\n",
        "human = Human(\"Alice\",15)\n",
        "human = Human(\"Jack\",40)\n",
        "\n"
      ]
    }
  ]
}