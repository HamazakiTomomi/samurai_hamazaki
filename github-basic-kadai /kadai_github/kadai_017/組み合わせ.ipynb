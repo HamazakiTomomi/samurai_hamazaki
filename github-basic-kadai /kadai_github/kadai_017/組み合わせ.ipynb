{
  "nbformat": 4,
  "nbformat_minor": 0,
  "metadata": {
    "colab": {
      "provenance": []
    },
    "kernelspec": {
      "name": "python3",
      "display_name": "Python 3"
    },
    "language_info": {
      "name": "python"
    }
  },
  "cells": [
    {
      "cell_type": "code",
      "execution_count": null,
      "metadata": {
        "colab": {
          "base_uri": "https://localhost:8080/"
        },
        "id": "ysmbELYJtl7G",
        "outputId": "5c2370c3-80aa-47ab-f371-7cae30f1cc06"
      },
      "outputs": [
        {
          "output_type": "stream",
          "name": "stdout",
          "text": [
            "Alice is Child\n",
            "Bob is Adult\n",
            "Jack is Adult\n",
            "Tom is Adult\n",
            "Jon is Child\n",
            "Jon is Child\n"
          ]
        }
      ],
      "source": [
        "class Human:\n",
        "  def __init__(self, name, age):\n",
        "    self.name = name\n",
        "    self.age = age\n",
        "\n",
        "  def check_adult(self):\n",
        "    if self.age >=20:\n",
        "      print(self.name+\" is Adult\")\n",
        "    else:\n",
        "      print(self.name+\" is Child\")\n",
        "\n",
        "humans = {Human(\"Tom\",20),Human(\"Jon\",18),Human(\"Bob\",35),Human(\"Alice\",15),Human(\"Jack\",40)}\n",
        "for human in humans:\n",
        "  human.check_adult()\n"
      ]
    }
  ]
}