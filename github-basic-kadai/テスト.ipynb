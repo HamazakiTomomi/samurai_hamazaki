{
  "nbformat": 4,
  "nbformat_minor": 0,
  "metadata": {
    "colab": {
      "provenance": []
    },
    "kernelspec": {
      "name": "python3",
      "display_name": "Python 3"
    },
    "language_info": {
      "name": "python"
    }
  },
  "cells": [
    {
      "cell_type": "code",
      "execution_count": null,
      "metadata": {
        "colab": {
          "base_uri": "https://localhost:8080/"
        },
        "id": "cfETDuW8qcWw",
        "outputId": "f64cb3cf-9ab0-4a93-9b00-578b159a3ffd"
      },
      "outputs": [
        {
          "output_type": "stream",
          "name": "stdout",
          "text": [
            "3\n"
          ]
        }
      ],
      "source": [
        "print(1+2)\n"
      ]
    },
    {
      "cell_type": "code",
      "source": [
        "last_name   = \"侍\"\n",
        "first_name  = \"太郎\"\n",
        "sister_name = \"花子\"\n",
        "\n",
        "# 3つの変数を文字列内に埋め込んで表示\n",
        "print(f\"私の名前は{last_name}{first_name}です。妹の名前は{sister_name}です。\")\n"
      ],
      "metadata": {
        "colab": {
          "base_uri": "https://localhost:8080/"
        },
        "id": "M5kveFCCs4h7",
        "outputId": "cde315e6-c061-49d7-a2e7-ee00a1ee3b43"
      },
      "execution_count": null,
      "outputs": [
        {
          "output_type": "stream",
          "name": "stdout",
          "text": [
            "私の名前は侍太郎です。妹の名前は花子です。\n"
          ]
        }
      ]
    },
    {
      "cell_type": "code",
      "source": [
        "1+2"
      ],
      "metadata": {
        "colab": {
          "base_uri": "https://localhost:8080/"
        },
        "id": "PIK8esSIq7Qs",
        "outputId": "9c9c260b-6a57-48dd-9885-48c95bc2999a"
      },
      "execution_count": null,
      "outputs": [
        {
          "output_type": "execute_result",
          "data": {
            "text/plain": [
              "3"
            ]
          },
          "metadata": {},
          "execution_count": 2
        }
      ]
    },
    {
      "cell_type": "code",
      "source": [
        "上辺 = 10\n",
        "下辺 = 20\n",
        "高さ = 5\n",
        "\n",
        "#公式：台形の面積 =（上辺＋下辺）× 高さ ÷ 2\n",
        "print (\"{[上辺] + {下辺}} * [高さ] / 2]\")"
      ],
      "metadata": {
        "colab": {
          "base_uri": "https://localhost:8080/"
        },
        "id": "MlpeP69VxEMg",
        "outputId": "d2a39e18-77e5-4cb5-ae94-868788ac6c7d"
      },
      "execution_count": null,
      "outputs": [
        {
          "output_type": "stream",
          "name": "stdout",
          "text": [
            "{[上辺] + {下辺}} * [高さ] / 2]\n"
          ]
        }
      ]
    },
    {
      "cell_type": "code",
      "source": [
        "user_name = \"suga\"\n",
        "print(user_name)\n",
        "user_name = \"koh\"\n",
        "print(user_name)\n",
        "#整数型と浮動小数点型の足し算\n",
        "number1 = 5\n",
        "number2 = 2.5\n",
        "print(number1 + number2)\n",
        "\n",
        "last_name = \"suga\"\n",
        "first_name = \"tomomi\"\n",
        "print(last_name + first_name)"
      ],
      "metadata": {
        "colab": {
          "base_uri": "https://localhost:8080/"
        },
        "id": "iRS2Eqe6gbo0",
        "outputId": "00bbe3a1-48d1-4b24-9a4d-3c2af1cb2a05"
      },
      "execution_count": null,
      "outputs": [
        {
          "output_type": "stream",
          "name": "stdout",
          "text": [
            "suga\n",
            "koh\n",
            "7.5\n",
            "sugatomomi\n"
          ]
        }
      ]
    },
    {
      "cell_type": "code",
      "source": [
        "last_name = \"suga\"\n",
        "first_name = \"tomomi\"\n",
        "sister_name = \"nana\"\n",
        "print(f\"私の名前は{last_name}{first_name}です。妹の名前は{sister_name}です\")"
      ],
      "metadata": {
        "id": "Bk-dJZByi2Qg",
        "colab": {
          "base_uri": "https://localhost:8080/"
        },
        "outputId": "3c79bc15-7675-4857-f935-971078890fdf"
      },
      "execution_count": null,
      "outputs": [
        {
          "output_type": "stream",
          "name": "stdout",
          "text": [
            "私の名前はsugatomomiです。妹の名前はnanaです\n"
          ]
        }
      ]
    },
    {
      "cell_type": "code",
      "source": [
        "jouhen = 10\n",
        "kahen = 20\n",
        "hight = 5\n",
        "print(f\"台形の面積は{(jouhen + kahen)*hight/2}です\")"
      ],
      "metadata": {
        "colab": {
          "base_uri": "https://localhost:8080/"
        },
        "id": "jeZ8OUUnlIvV",
        "outputId": "59c75662-cdae-4529-e9df-bf56f77a156e"
      },
      "execution_count": 2,
      "outputs": [
        {
          "output_type": "stream",
          "name": "stdout",
          "text": [
            "台形の面積は75.0です\n"
          ]
        }
      ]
    }
  ]
}